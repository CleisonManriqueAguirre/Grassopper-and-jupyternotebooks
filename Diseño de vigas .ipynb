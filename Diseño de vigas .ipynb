{
 "cells": [
  {
   "cell_type": "markdown",
   "id": "0f80bf19",
   "metadata": {},
   "source": [
    "# BEAM DESIGN / DISEÑO DE VIGAS - CLEISON MANRIQUE\n",
    "Este material está sujeto a los términos y condiciones de la licencia [Creative Commons CC BY-NC-SA 4.0](https://creativecommons.org/licenses/by-nc-sa/4.0/). Se permite el uso gratuito para cualquier propósito no comercial.\n",
    "Autor: Cleison Armando Manrique Aguirre"
   ]
  },
  {
   "cell_type": "markdown",
   "id": "b74f4f69",
   "metadata": {},
   "source": [
    "## 1. Behaviour of a beam due to bending | comportamiento de vigas a flexion"
   ]
  },
  {
   "cell_type": "markdown",
   "id": "e531fe2d",
   "metadata": {},
   "source": [
    "![alt text here](https://proyectodescartes.org/ingenieria/materiales_didacticos/Hormigon/imagenes/hipotesis2.jpg \"Witney rectangle\")"
   ]
  },
  {
   "cell_type": "markdown",
   "id": "4b8a9853",
   "metadata": {},
   "source": [
    "## 2. Design beam code variables | Variables para el diseño de vigas"
   ]
  },
  {
   "cell_type": "code",
   "execution_count": 1,
   "id": "c5fe68d8",
   "metadata": {},
   "outputs": [],
   "source": [
    "from sympy import *"
   ]
  },
  {
   "cell_type": "code",
   "execution_count": 8,
   "id": "96949480",
   "metadata": {},
   "outputs": [],
   "source": [
    "fc_1=210    #esfuerzo de compresion concreto\n",
    "fy_1=4200   #esferzo de fluencia del acero \n",
    "b_1=30      #ancho de la viga\n",
    "h_1=60      #altura de la viga\n",
    "r_1=4      #recubrimiento\n",
    "Mu_1=10 #Momento ultimo de diseño tn-m\n",
    "phi_1=0.9   #factor de correcion a flexion "
   ]
  },
  {
   "cell_type": "markdown",
   "id": "6fb6d150",
   "metadata": {},
   "source": [
    "## 3. Ratio steel/area  | cuantia\n",
    "Where fc & fy are in `kg/cm2` , b & h are in `cm`and Mu is in `tn.m` \n",
    "    \n",
    "$$d=h-r$$\n",
    "$$Rn=\\frac{Mu \\cdot 100000}{\\phi \\cdot b \\cdot d^2}$$\n",
    "$$\\rho=\\frac{0.85 \\cdot fc}{fy}\\cdot\\Bigl(1-\\sqrt{1-\\frac{2 \\cdot Rn}{0.85 \\cdot fc}}\\Bigr)$$"
   ]
  },
  {
   "cell_type": "code",
   "execution_count": 9,
   "id": "ff5fe014",
   "metadata": {},
   "outputs": [
    {
     "name": "stdout",
     "output_type": "stream",
     "text": [
      "la cuantia de la viga es 0.00291\n",
      "El area de acero requerida es 4.89 cm2\n"
     ]
    }
   ],
   "source": [
    "fc,fy,b,h,r,Mu,phi=symbols(\"fc fy b h r Mu phi\")\n",
    "d = h-r \n",
    "Rn = Mu*100000/(phi*b*d**2)\n",
    "rho_1 = 0.85*fc/fy*(1-sqrt(1-2*Rn/(0.85*fc)))\n",
    "#rho_1 = 0.85*(fc/fy)*(1-sqrt(phi-(2*Rn*phi/(0.85*fc))))\n",
    "rho=round(rho_1.subs(fc,fc_1).subs(fy,fy_1).subs(b,b_1).subs(h,h_1).subs(r,r_1).subs(Mu,Mu_1).subs(phi,phi_1),5)\n",
    "As=rho*b*d\n",
    "As1=round(As.subs(b,b_1).subs(h,h_1).subs(r,r_1),3)\n",
    "print('la cuantia de la viga es',rho)\n",
    "print('El area de acero requerida es',As1,'cm2')\n"
   ]
  },
  {
   "cell_type": "markdown",
   "id": "e300ccf7",
   "metadata": {},
   "source": [
    "## 3. Minimun ratio s/a | acero balanceado , cuantia minima\n",
    "Where fc & fy are in `kg/cm2` , b & h are in `cm`\n",
    "$$A_{s,min}=\\frac{0.7 \\cdot \\sqrt{fc}}{fy}\\cdot b \\cdot d $$"
   ]
  },
  {
   "cell_type": "code",
   "execution_count": 33,
   "id": "757a36d9",
   "metadata": {},
   "outputs": [
    {
     "name": "stdout",
     "output_type": "stream",
     "text": [
      "El area de acero minima es 4.058 cm2\n"
     ]
    }
   ],
   "source": [
    "As_1 = 0.7*sqrt(fc)/fy*b*d\n",
    "As=round(As_1.subs(fc,fc_1).subs(fy,fy_1).subs(b,b_1).subs(h,h_1).subs(r,r_1),3)\n",
    "print('El area de acero minima es',As,'cm2')"
   ]
  },
  {
   "cell_type": "markdown",
   "id": "e3eb337c",
   "metadata": {},
   "source": [
    "## 4. Maximun ratio s/a | cuantia maxima | acero balanceado\n",
    "Where fc & fy are in `kg/cm2` , b & h are in `cm`\n",
    "$$A_{s,max}=\\frac{0.75 \\cdot \\phi \\cdot 0.85 \\sqrt{fc}}{fy}\\cdot \\Bigl( \\frac{6117}{6117+fy} \\Bigr) \\cdot b \\cdot d $$"
   ]
  },
  {
   "cell_type": "code",
   "execution_count": 34,
   "id": "bd654391",
   "metadata": {},
   "outputs": [
    {
     "name": "stdout",
     "output_type": "stream",
     "text": [
      "El area de acero maxima para las dimensiones establecidas es  26.988 cm2\n",
      "La cuantia maxima es  0.016064\n"
     ]
    }
   ],
   "source": [
    "As_2 = 0.75*0.85*0.85*fc/fy*(6117/(6117+fy))*b*d\n",
    "As_3=round(As_2.subs(fc,fc_1).subs(fy,fy_1).subs(b,b_1).subs(h,h_1).subs(r,r_1),3)\n",
    "d=h-r\n",
    "c_max=As_3/(b*d)\n",
    "c_max1=c_max.subs(b,b_1).subs(h,h_1).subs(r,r_1)\n",
    "print('El area de acero maxima para las dimensiones establecidas es ',As_3,'cm2')\n",
    "print('La cuantia maxima es ',c_max1)\n"
   ]
  },
  {
   "cell_type": "markdown",
   "id": "a9cc4401",
   "metadata": {},
   "source": [
    "## 5. How much moment force does a given As & bd resist? |  Cuanto momento resiste una viga dada una cuantia "
   ]
  },
  {
   "cell_type": "markdown",
   "id": "a2b152ad",
   "metadata": {},
   "source": [
    "$$ a=\\frac{\\rho \\cdot d \\cdot fy}{0.85 \\cdot fc} $$\n",
    "$$ Mn = 0.85 \\cdot fc \\cdot b \\cdot a \\cdot \\biggl(d-\\frac{a}{2}\\biggr)  $$\n",
    "$$ Mu =  \\phi Mn$$"
   ]
  },
  {
   "cell_type": "code",
   "execution_count": 24,
   "id": "480d7fb6",
   "metadata": {},
   "outputs": [],
   "source": [
    "fc=210  #kg/cm2|esfuerzo de compresion del concreto \n",
    "fy=4200  #kg/cm2|esfuero de tension del concreto \n",
    "b=30     #cm|ancho de la viga\n",
    "h=60     #cm|altura de la viga\n",
    "r=4      #cm|recubrimiento\n",
    "As=3.207   #cm2|area de acero \n",
    "phi=0.9  #factor de reduccion de resistencia a flexion"
   ]
  },
  {
   "cell_type": "code",
   "execution_count": 25,
   "id": "7f8fbf4c",
   "metadata": {},
   "outputs": [
    {
     "name": "stdout",
     "output_type": "stream",
     "text": [
      "El momento que resiste la viga es 6.636 tn-m\n",
      "El momento nominal que resiste la viga es 7.37331814236111 tn-m\n"
     ]
    }
   ],
   "source": [
    "r_2,b_2,h_2,As_2,fc_2,fy_2,r_2,phi_2 = symbols(\" r_2 b_2 h_2 As_2 fc_2 fy_2 r_2 phi_2 \")\n",
    "d_2 = h_2-r_2 \n",
    "rho_2=As_2/(b_2*d_2)\n",
    "a_2=rho_2*d_2*fy_2/(0.85*fc_2)\n",
    "Mu=(phi_2)*0.85*(fc_2)*(b_2)*(a_2)*(((d_2)-(a_2)/2)/100000)\n",
    "Mu_2=round(Mu.subs(b_2,b).subs(h_2,h).subs(r_2,r).subs(fc_2,fc).subs(fy_2,fy).subs(As_2,As).subs(phi_2,phi),3)\n",
    "print('El momento que resiste la viga es',Mu_2,'tn-m')\n",
    "print('El momento nominal que resiste la viga es',Mu_2/0.9,'tn-m')"
   ]
  },
  {
   "cell_type": "code",
   "execution_count": null,
   "id": "9ed8aadd",
   "metadata": {},
   "outputs": [],
   "source": []
  },
  {
   "cell_type": "code",
   "execution_count": 39,
   "id": "507a2d67",
   "metadata": {},
   "outputs": [],
   "source": [
    "from sympy import *\n",
    "def As1(fc,fy,b,h,r,Mu,phi):\n",
    "    #variables\n",
    "    global fc1,fy1,b1,h1,r1,Mu1,phi1 \n",
    "    fc1=210    #esfuerzo de compresion concreto\n",
    "    fy1=4200   #esferzo de fluencia del acero \n",
    "    b1=25      #ancho de la viga\n",
    "    h1=50      #altura de la viga\n",
    "    r1=4       #recubrimiento\n",
    "    Mu1=25.135 #Momento ultimo de diseño\n",
    "    phi1=0.9   #factor de correcion a flexion \n",
    "    #formulas\n",
    "    d = h-r\n",
    "    Rn = Mu*100000/(phi*b*d**2)\n",
    "    rho = 0.85*fc/fy*(1-sqrt(1-2*Rn/(0.85*fc)))\n",
    "    print('la cuantia de la viga es',rho)\n"
   ]
  },
  {
   "cell_type": "code",
   "execution_count": 74,
   "id": "a80b6449",
   "metadata": {},
   "outputs": [
    {
     "name": "stdout",
     "output_type": "stream",
     "text": [
      "la cuantia de la viga es 0.422885572139304 - 0.279429221679395*I\n"
     ]
    }
   ],
   "source": [
    "As1(100,201,202,350,360,370,30)"
   ]
  },
  {
   "cell_type": "code",
   "execution_count": 62,
   "id": "53fa28f3",
   "metadata": {},
   "outputs": [
    {
     "name": "stdout",
     "output_type": "stream",
     "text": [
      "la cuantia de la viga es 0.0101384916589894\n"
     ]
    }
   ],
   "source": [
    "As1(fc1,fy1,b1,h1,r1,Mu1,phi1)"
   ]
  },
  {
   "cell_type": "code",
   "execution_count": null,
   "id": "0af92f0c",
   "metadata": {},
   "outputs": [],
   "source": []
  },
  {
   "cell_type": "code",
   "execution_count": null,
   "id": "ff997a26",
   "metadata": {},
   "outputs": [],
   "source": []
  },
  {
   "cell_type": "code",
   "execution_count": null,
   "id": "b48f2a55",
   "metadata": {},
   "outputs": [],
   "source": []
  }
 ],
 "metadata": {
  "kernelspec": {
   "display_name": "Python 3",
   "language": "python",
   "name": "python3"
  },
  "language_info": {
   "codemirror_mode": {
    "name": "ipython",
    "version": 3
   },
   "file_extension": ".py",
   "mimetype": "text/x-python",
   "name": "python",
   "nbconvert_exporter": "python",
   "pygments_lexer": "ipython3",
   "version": "3.8.8"
  }
 },
 "nbformat": 4,
 "nbformat_minor": 5
}
