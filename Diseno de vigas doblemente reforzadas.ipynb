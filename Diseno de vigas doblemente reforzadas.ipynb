{
 "cells": [
  {
   "cell_type": "markdown",
   "id": "ba9baee8",
   "metadata": {},
   "source": [
    "# DISEÑO DE  VIGAS DOBLEMENTE REFORZADAS | DOUBLE REINFORCED CONCRETE BEAM DESIGN- CLEISON MANRIQUE\n",
    "Este material está sujeto a los términos y condiciones de la licencia [Creative Commons CC BY-NC-SA 4.0](https://creativecommons.org/licenses/by-nc-sa/4.0/). Se permite el uso gratuito para cualquier propósito no comercial.\n",
    "Autor: Cleison Armando Manrique Aguirre"
   ]
  },
  {
   "cell_type": "markdown",
   "id": "a3deb4f9",
   "metadata": {},
   "source": [
    "## 1. Ecuaciones de equilibrio "
   ]
  },
  {
   "cell_type": "markdown",
   "id": "726fa32d",
   "metadata": {},
   "source": [
    "Ecuacion que rige el comportamiento de una viga cuando ...  $\\epsilon'>\\epsilon_y$ ... el acero empieza a fluir."
   ]
  },
  {
   "cell_type": "markdown",
   "id": "b856b619",
   "metadata": {},
   "source": [
    "$$ A_s \\cdot f_y = 0.85 \\cdot f'c \\cdot \\beta_1 \\cdot c \\cdot b + A'_s \\cdot fy $$"
   ]
  },
  {
   "cell_type": "markdown",
   "id": "7bd404e1",
   "metadata": {},
   "source": [
    "Ecuacion que rige el comportamiento de una viga cuando ...  $\\epsilon'<\\epsilon_y$ ... el acero empieza a fluir."
   ]
  },
  {
   "cell_type": "markdown",
   "id": "c27dadbc",
   "metadata": {},
   "source": [
    "$$ A_s \\cdot f_y = 0.85 \\cdot f'c \\cdot \\beta_1 \\cdot c \\cdot b + A'_s \\cdot \\frac{c-d'}{c} \\cdot 0.003 \\cdot E_s$$"
   ]
  },
  {
   "cell_type": "markdown",
   "id": "bef2dc85",
   "metadata": {},
   "source": [
    "Primera iteracion se considera la suposicion de la ecuacion 1"
   ]
  },
  {
   "cell_type": "code",
   "execution_count": 13,
   "id": "0df758e8",
   "metadata": {},
   "outputs": [],
   "source": [
    "import numpy as np\n",
    " \n",
    "#tol=1.0e-8\n",
    "\n",
    "def biseccion(f, a, b, tol):\n",
    "    \n",
    "    if a > b:\n",
    "        raise ValueError(\"Intervalo mal definido.\")\n",
    "    if tol <= 0:\n",
    "        raise ValueError(\"La cota de error debe ser un número positivo.\")\n",
    "        \n",
    "    x = (a + b) / 2.0\n",
    "    i=1\n",
    "    while True:\n",
    "        if b - a < tol:\n",
    "            i+=1\n",
    "            return(x,i)\n",
    "        # Utilizamos la función signo para evitar errores de precisión\n",
    "        elif np.sign(f(a)) * np.sign(f(x)) > 0: #+*- o +*+\n",
    "            i+=1 #para el contador\n",
    "            a = x\n",
    "        else:\n",
    "            i+=1\n",
    "            b = x\n",
    "        x = (a + b) / 2.0\n",
    "    return(x,i)\n"
   ]
  },
  {
   "cell_type": "markdown",
   "id": "5e70b3c1",
   "metadata": {},
   "source": [
    "## 2. Iteracion"
   ]
  },
  {
   "cell_type": "code",
   "execution_count": 14,
   "id": "4b6b178f",
   "metadata": {},
   "outputs": [],
   "source": [
    "def iteracion(fc,fy,Es,d,b,dp,A_s,A_sp):\n",
    "    #variables\n",
    "    global fc1,fy1,Es1,d1,b1,dp1,A_s1,A_sp1\n",
    "    fc1=210     #esfuerzo de compresion concreto\n",
    "    fy1=4200    #esferzo de fluencia del acero \n",
    "    Es1=2039000 #Modulo de elasticidad acero\n",
    "    d1=41.5        #peralte h-r\n",
    "    b1=30        #ancho\n",
    "    dp1=6.5      #recubrimiento superior\n",
    "    A_s1=30.6    #acero inferior\n",
    "    A_sp1=12.2      #acero superior\n",
    "        \n",
    "    # valor betha del rectangulo de witney\n",
    "    if (fc <= 280):\n",
    "        beta = 0.85\n",
    "    elif (280 < fc & fc < 360):\n",
    "        beta = 0.85-(0.05*(fc-360))/100\n",
    "    else:\n",
    "        beta = 0.65 \n",
    "        \n",
    "    c=((A_s)-(A_sp))*fy/(0.85*fc*b*beta)    \n",
    "    epsilon_sp=(c-dp)*0.003/c \n",
    "    epsilon_y=fy/Es\n",
    "    \n",
    "    #si el acero inferior fluye\n",
    "    if (epsilon_sp>=epsilon_y):\n",
    "        #print(\"El acero inferior fluye\")\n",
    "        epsilon_t=(d-c)*0.003/c\n",
    "        \n",
    "        #el acero superior fluye?\n",
    "        if (epsilon_t >= 0.004):\n",
    "            print(\"El acero superior es Ductil\")\n",
    "        else :\n",
    "            print(\"El acero superior es Fragil\")\n",
    "        a=beta*c\n",
    "        \n",
    "        #valor phi de reduccion de resistencia del acero \n",
    "        phi=0.65+((epsilon_t)-(epsilon_y))*0.25/(0.005-(epsilon_y))\n",
    "        if (phi < 0.65):\n",
    "            phi=0.65\n",
    "        elif (phi <= 0.9) & (0.65 <= phi):\n",
    "            phi=phi \n",
    "        else :\n",
    "            phi=0.9\n",
    "        \n",
    "        #valor del esfuerzo si fluye\n",
    "        f_sp=fy             \n",
    "        print(\"El acero inferior fluye\")\n",
    "        A_s2=A_sp*f_sp/fy\n",
    "        A_s1=A_s-A_s2\n",
    "        Mu=((phi)*((A_s1)*fy*(d-a/2)))+((A_sp)*(f_sp)*(d-dp)) \n",
    "        print(\"El momento resistente ultimo es\",Mu,c,a,beta,\"kg-cm\")\n",
    "    else :\n",
    "        print(\"El acero NO fluye\") \n",
    "    q_1=round(0.85*fc*beta*b1,3)\n",
    "    w_1=round(A_sp1*0.003*Es1-A_s1*fy1,3)\n",
    "    e_1=round(-A_sp1*dp1*0.003*Es1,3)\n",
    "    print(\"Los parametros de la ecuacion cuadratica son a,b,c como sigue a continuacion\",q_1,w_1,e_1)"
   ]
  },
  {
   "cell_type": "code",
   "execution_count": 15,
   "id": "e8198b42",
   "metadata": {},
   "outputs": [
    {
     "name": "stdout",
     "output_type": "stream",
     "text": [
      "El acero NO fluye\n",
      "Los parametros de la ecuacion cuadratica son a,b,c como sigue a continuacion 4551.75 -53892.6 -485078.1\n"
     ]
    }
   ],
   "source": [
    "iteracion(210,4200,2100000,41.5,30,6.5,30.6,12.2)"
   ]
  },
  {
   "cell_type": "markdown",
   "id": "6e573eb9",
   "metadata": {},
   "source": [
    "**IMPORTANTE| FLUYE O NO FLUYE EL ACERO INFERIOR**"
   ]
  },
  {
   "cell_type": "code",
   "execution_count": 16,
   "id": "bc593cc0",
   "metadata": {},
   "outputs": [
    {
     "name": "stdout",
     "output_type": "stream",
     "text": [
      "El acero NO fluye\n",
      "Los parametros de la ecuacion cuadratica son a,b,c como sigue a continuacion 4551.75 -53892.6 -485078.1\n"
     ]
    }
   ],
   "source": [
    "iteracion(fc1,fy1,Es1,d1,b1,dp1,A_s1,A_sp1)"
   ]
  },
  {
   "cell_type": "markdown",
   "id": "4de27bdd",
   "metadata": {},
   "source": [
    "**Si el acero no fluye**"
   ]
  },
  {
   "cell_type": "code",
   "execution_count": 17,
   "id": "cbd383a7",
   "metadata": {},
   "outputs": [
    {
     "name": "stdout",
     "output_type": "stream",
     "text": [
      "(17.820231653517112, 33)\n",
      "0.0003797975368797779\n"
     ]
    }
   ],
   "source": [
    "tol=1.0e-8\n",
    "def no_fluye(x):\n",
    "    #q_1=0.85*fc*beta*b1\n",
    "    #w_1=A_sp1*0.003*Es1-A_s1*fy1\n",
    "    #e_1=-A_sp1*dp1*0.003*Es1\n",
    "    q=4551.75\n",
    "    w=-53892.6\n",
    "    e=-485078.1\n",
    "    return(q*x**2+w*x+e)\n",
    "print(biseccion(no_fluye,1,20,tol))\n",
    "print(no_fluye(biseccion(no_fluye,1,20,tol)[0]))"
   ]
  },
  {
   "cell_type": "code",
   "execution_count": 21,
   "id": "f6cf8ec7",
   "metadata": {},
   "outputs": [],
   "source": [
    "def momento_no_fluye(c1):\n",
    "    if (fc1 <= 4000):\n",
    "        beta = 0.85\n",
    "    elif (4000 < fc1 & fc1 < 8000):\n",
    "        beta = 0.85-(0.05*(fc1-4000))/1000\n",
    "    else:\n",
    "        beta = 0.65 \n",
    "    epsilon_y=fy1/Es1\n",
    "    epsilon_sp=(c1-dp1)*0.003/c1\n",
    "    f_sp=epsilon_sp*Es1\n",
    "    a=beta*c1\n",
    "    A_s2=A_sp1*f_sp/fy1\n",
    "    A_s11=A_s1-A_s2\n",
    "    epsilon_t=(d1-c1)*0.003/c1\n",
    "    phi=0.65+((epsilon_t)-(epsilon_y))*0.25/(0.005-(epsilon_y))\n",
    "    if (phi < 0.65):\n",
    "        phi=0.65\n",
    "    elif (phi <= 0.9) & (0.65 <= phi):\n",
    "        phi=phi \n",
    "    else :\n",
    "        phi=0.9\n",
    "    Mu=((phi)*((A_s11)*fy1*(d1-a/2)))+((A_sp1)*(f_sp)*(d1-dp1)) \n",
    "    print(\"El momento resistente ultimo es\",Mu,\"kg-cm\")"
   ]
  },
  {
   "cell_type": "code",
   "execution_count": 22,
   "id": "ce43a94f",
   "metadata": {},
   "outputs": [
    {
     "name": "stdout",
     "output_type": "stream",
     "text": [
      "El momento resistente ultimo es 3900964.55748313 kg-cm\n"
     ]
    }
   ],
   "source": [
    "momento_no_fluye(17.8)"
   ]
  },
  {
   "cell_type": "code",
   "execution_count": null,
   "id": "1af09d3c",
   "metadata": {},
   "outputs": [],
   "source": []
  },
  {
   "cell_type": "code",
   "execution_count": null,
   "id": "41b863a5",
   "metadata": {},
   "outputs": [],
   "source": []
  }
 ],
 "metadata": {
  "kernelspec": {
   "display_name": "Python 3",
   "language": "python",
   "name": "python3"
  },
  "language_info": {
   "codemirror_mode": {
    "name": "ipython",
    "version": 3
   },
   "file_extension": ".py",
   "mimetype": "text/x-python",
   "name": "python",
   "nbconvert_exporter": "python",
   "pygments_lexer": "ipython3",
   "version": "3.8.8"
  }
 },
 "nbformat": 4,
 "nbformat_minor": 5
}
